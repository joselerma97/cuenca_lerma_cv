{
 "cells": [
  {
   "cell_type": "code",
   "outputs": [],
   "source": [
    "from PIL import Image\n",
    "import pandas as pd\n",
    "import json"
   ],
   "metadata": {
    "collapsed": false,
    "ExecuteTime": {
     "end_time": "2024-01-15T16:54:49.103566Z",
     "start_time": "2024-01-15T16:54:49.087002600Z"
    }
   },
   "id": "6708ec9d3f4532ec",
   "execution_count": 39
  },
  {
   "cell_type": "code",
   "outputs": [],
   "source": [
    "json_pd = pd.read_csv(\"data/train_solution_bounding_boxes (1).csv\")"
   ],
   "metadata": {
    "collapsed": false,
    "ExecuteTime": {
     "end_time": "2024-01-15T16:54:50.485791600Z",
     "start_time": "2024-01-15T16:54:50.460738600Z"
    }
   },
   "id": "initial_id",
   "execution_count": 40
  },
  {
   "cell_type": "code",
   "outputs": [
    {
     "data": {
      "text/plain": "             image        xmin        ymin        xmax        ymax\n0   vid_4_1000.jpg  281.259045  187.035071  327.727931  223.225547\n1  vid_4_10000.jpg   15.163531  187.035071  120.329957  236.430180\n2  vid_4_10040.jpg  239.192475  176.764801  361.968162  236.430180\n3  vid_4_10020.jpg  496.483358  172.363256  630.020260  231.539575\n4  vid_4_10060.jpg   16.630970  186.546010  132.558611  238.386422",
      "text/html": "<div>\n<style scoped>\n    .dataframe tbody tr th:only-of-type {\n        vertical-align: middle;\n    }\n\n    .dataframe tbody tr th {\n        vertical-align: top;\n    }\n\n    .dataframe thead th {\n        text-align: right;\n    }\n</style>\n<table border=\"1\" class=\"dataframe\">\n  <thead>\n    <tr style=\"text-align: right;\">\n      <th></th>\n      <th>image</th>\n      <th>xmin</th>\n      <th>ymin</th>\n      <th>xmax</th>\n      <th>ymax</th>\n    </tr>\n  </thead>\n  <tbody>\n    <tr>\n      <th>0</th>\n      <td>vid_4_1000.jpg</td>\n      <td>281.259045</td>\n      <td>187.035071</td>\n      <td>327.727931</td>\n      <td>223.225547</td>\n    </tr>\n    <tr>\n      <th>1</th>\n      <td>vid_4_10000.jpg</td>\n      <td>15.163531</td>\n      <td>187.035071</td>\n      <td>120.329957</td>\n      <td>236.430180</td>\n    </tr>\n    <tr>\n      <th>2</th>\n      <td>vid_4_10040.jpg</td>\n      <td>239.192475</td>\n      <td>176.764801</td>\n      <td>361.968162</td>\n      <td>236.430180</td>\n    </tr>\n    <tr>\n      <th>3</th>\n      <td>vid_4_10020.jpg</td>\n      <td>496.483358</td>\n      <td>172.363256</td>\n      <td>630.020260</td>\n      <td>231.539575</td>\n    </tr>\n    <tr>\n      <th>4</th>\n      <td>vid_4_10060.jpg</td>\n      <td>16.630970</td>\n      <td>186.546010</td>\n      <td>132.558611</td>\n      <td>238.386422</td>\n    </tr>\n  </tbody>\n</table>\n</div>"
     },
     "execution_count": 41,
     "metadata": {},
     "output_type": "execute_result"
    }
   ],
   "source": [
    "json_pd.head() "
   ],
   "metadata": {
    "collapsed": false,
    "ExecuteTime": {
     "end_time": "2024-01-15T16:54:53.679674Z",
     "start_time": "2024-01-15T16:54:53.674738400Z"
    }
   },
   "id": "9e711351f1337072",
   "execution_count": 41
  },
  {
   "cell_type": "code",
   "outputs": [
    {
     "data": {
      "text/plain": "{'year': 2024,\n 'version': '1',\n 'description': 'COCO 2024 Dataset',\n 'contributor': 'COCO Consortium',\n 'url': 'http://cocodataset.org',\n 'date_created': '2024-01-15T00:00:00+00:00'}"
     },
     "execution_count": 42,
     "metadata": {},
     "output_type": "execute_result"
    }
   ],
   "source": [
    "info = dict()\n",
    "info[\"year\"] = 2024\n",
    "info[\"version\"] = \"1\"\n",
    "info[\"description\"] = \"COCO 2024 Dataset\"\n",
    "info[\"contributor\"] = \"COCO Consortium\"\n",
    "info[\"url\"] = \"http://cocodataset.org\"\n",
    "info[\"date_created\"] = \"2024-01-15T00:00:00+00:00\"\n",
    "info"
   ],
   "metadata": {
    "collapsed": false,
    "ExecuteTime": {
     "end_time": "2024-01-15T16:54:56.177226700Z",
     "start_time": "2024-01-15T16:54:56.137001900Z"
    }
   },
   "id": "7b6305939d70dff4",
   "execution_count": 42
  },
  {
   "cell_type": "code",
   "outputs": [
    {
     "data": {
      "text/plain": "[{'id': 1,\n  'name': 'Attribution-NonCommercial-ShareAlike License',\n  'url': 'http://creativecommons.org/licenses/by-nc-sa/2.0/'}]"
     },
     "execution_count": 43,
     "metadata": {},
     "output_type": "execute_result"
    }
   ],
   "source": [
    "licenses = list()\n",
    "licenses.append({\"id\": 1, \"name\": \"Attribution-NonCommercial-ShareAlike License\", \"url\": \"http://creativecommons.org/licenses/by-nc-sa/2.0/\"})\n",
    "licenses"
   ],
   "metadata": {
    "collapsed": false,
    "ExecuteTime": {
     "end_time": "2024-01-15T16:55:07.299800900Z",
     "start_time": "2024-01-15T16:55:07.259509700Z"
    }
   },
   "id": "153a95c7fa76c919",
   "execution_count": 43
  },
  {
   "cell_type": "code",
   "outputs": [
    {
     "data": {
      "text/plain": "[{'id': 0, 'name': 'cars', 'supercategory': 'none'}]"
     },
     "execution_count": 44,
     "metadata": {},
     "output_type": "execute_result"
    }
   ],
   "source": [
    "categories = list()\n",
    "categories.append({\"id\": 0, \"name\": \"cars\", \"supercategory\": \"none\"})\n",
    "categories"
   ],
   "metadata": {
    "collapsed": false,
    "ExecuteTime": {
     "end_time": "2024-01-15T16:55:08.893726200Z",
     "start_time": "2024-01-15T16:55:08.880767100Z"
    }
   },
   "id": "31952672021ea3f2",
   "execution_count": 44
  },
  {
   "cell_type": "code",
   "outputs": [
    {
     "data": {
      "text/plain": "355"
     },
     "execution_count": 45,
     "metadata": {},
     "output_type": "execute_result"
    }
   ],
   "source": [
    "images = list()\n",
    "img_names = json_pd.image.unique().tolist()\n",
    "\n",
    "for id_data, img_name in enumerate(img_names):\n",
    "    image = dict()\n",
    "    image[\"id\"] = id_data\n",
    "    image[\"license\"] = 1\n",
    "    image[\"file_name\"] = img_name\n",
    "    with Image.open(f\"data/training_images/{img_name}\") as img:\n",
    "        image[\"height\"] = img.height\n",
    "        image[\"width\"] = img.width    \n",
    "    image[\"date_captured\"] = \"2024-01-15T00:00:00+00:00\"    \n",
    "    images.append(image)\n",
    "\n",
    "len(images)"
   ],
   "metadata": {
    "collapsed": false,
    "ExecuteTime": {
     "end_time": "2024-01-15T16:55:12.415927900Z",
     "start_time": "2024-01-15T16:55:12.355683100Z"
    }
   },
   "id": "8f9f814884bc0ada",
   "execution_count": 45
  },
  {
   "cell_type": "code",
   "outputs": [
    {
     "data": {
      "text/plain": "[{'id': 0,\n  'image_id': 0,\n  'category_id': 0,\n  'bbox': [281.2590449, 187.0350708, 46.46888560000002, 36.190476200000006],\n  'area': 1681.7310983473237,\n  'segmentation': [],\n  'iscrowd': 0},\n {'id': 1,\n  'image_id': 1,\n  'category_id': 0,\n  'bbox': [15.16353111, 187.0350708, 105.16642549000001, 49.395109399999996],\n  'area': 5194.707092285498,\n  'segmentation': [],\n  'iscrowd': 0}]"
     },
     "execution_count": 46,
     "metadata": {},
     "output_type": "execute_result"
    }
   ],
   "source": [
    "annotations = list()\n",
    "annotation_id = 0\n",
    "\n",
    "for id_data, img_name in enumerate(img_names):\n",
    "    \n",
    "    img_info = json_pd[json_pd.image == img_name].to_dict(orient='records')\n",
    "    for img in img_info:\n",
    "        annotation = dict()\n",
    "        annotation[\"id\"] = annotation_id\n",
    "        annotation[\"image_id\"] = id_data\n",
    "        annotation[\"category_id\"] = 0\n",
    "        x_min = img[\"xmin\"]\n",
    "        y_min = img[\"ymin\"]\n",
    "        width = img[\"xmax\"] - x_min\n",
    "        height = img[\"ymax\"] - y_min\n",
    "        annotation[\"bbox\"] = [x_min, y_min, width, height]\n",
    "        annotation[\"area\"] = width * height\n",
    "        annotation[\"segmentation\"] = []\n",
    "        annotation[\"iscrowd\"] = 0\n",
    "        annotation_id += 1\n",
    "        annotations.append(annotation)\n",
    "\n",
    "annotations[0:2]"
   ],
   "metadata": {
    "collapsed": false,
    "ExecuteTime": {
     "end_time": "2024-01-15T16:55:14.323525800Z",
     "start_time": "2024-01-15T16:55:14.080500200Z"
    }
   },
   "id": "20146ccd2927ed96",
   "execution_count": 46
  },
  {
   "cell_type": "code",
   "outputs": [],
   "source": [
    "coco_format_json = dict()\n",
    "coco_format_json[\"info\"] = info\n",
    "coco_format_json[\"licenses\"] = licenses\n",
    "coco_format_json[\"categories\"] = categories\n",
    "coco_format_json[\"images\"] = images\n",
    "coco_format_json[\"annotations\"] = annotations"
   ],
   "metadata": {
    "collapsed": false,
    "ExecuteTime": {
     "end_time": "2024-01-15T16:55:18.404092Z",
     "start_time": "2024-01-15T16:55:18.394079100Z"
    }
   },
   "id": "19b575b5941dcf4d",
   "execution_count": 47
  },
  {
   "cell_type": "code",
   "outputs": [],
   "source": [
    "# File path where you want to store the JSON data\n",
    "file_path = 'data/coco_annotationsv2.json'\n",
    "\n",
    "# Writing the dictionary to a JSON file\n",
    "with open(file_path, 'w') as json_file:\n",
    "    json.dump(coco_format_json, json_file, indent=4)"
   ],
   "metadata": {
    "collapsed": false,
    "ExecuteTime": {
     "end_time": "2024-01-15T16:55:20.540539300Z",
     "start_time": "2024-01-15T16:55:20.490415400Z"
    }
   },
   "id": "fd24b520c40faa49",
   "execution_count": 48
  }
 ],
 "metadata": {
  "kernelspec": {
   "display_name": "Python 3",
   "language": "python",
   "name": "python3"
  },
  "language_info": {
   "codemirror_mode": {
    "name": "ipython",
    "version": 2
   },
   "file_extension": ".py",
   "mimetype": "text/x-python",
   "name": "python",
   "nbconvert_exporter": "python",
   "pygments_lexer": "ipython2",
   "version": "2.7.6"
  }
 },
 "nbformat": 4,
 "nbformat_minor": 5
}
