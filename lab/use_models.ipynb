{
 "cells": [
  {
   "cell_type": "markdown",
   "source": [
    "# Import Libraries"
   ],
   "metadata": {
    "collapsed": false
   },
   "id": "c2c0be6285f9475"
  },
  {
   "cell_type": "code",
   "outputs": [],
   "source": [
    "from roboflow import Roboflow\n",
    "import cv2\n",
    "from ultralytics.utils.plotting import Annotator\n",
    "import os\n",
    "\n",
    "current_directory = os.getcwd()"
   ],
   "metadata": {
    "collapsed": false,
    "ExecuteTime": {
     "end_time": "2024-01-15T11:09:04.011356500Z",
     "start_time": "2024-01-15T11:09:03.994595600Z"
    }
   },
   "id": "cd1b811a8ebe1892",
   "execution_count": 28
  },
  {
   "cell_type": "markdown",
   "source": [
    "# Read Model from Cloud"
   ],
   "metadata": {
    "collapsed": false
   },
   "id": "1246357511a717c7"
  },
  {
   "cell_type": "code",
   "outputs": [
    {
     "name": "stdout",
     "output_type": "stream",
     "text": [
      "loading Roboflow workspace...\n",
      "loading Roboflow project...\n"
     ]
    },
    {
     "name": "stderr",
     "output_type": "stream",
     "text": [
      "Downloading Dataset Version Zip in Car-Object-Detection-1 to yolov8:: 100%|██████████| 3263/3263 [00:01<00:00, 3194.19it/s]"
     ]
    },
    {
     "name": "stdout",
     "output_type": "stream",
     "text": []
    },
    {
     "name": "stderr",
     "output_type": "stream",
     "text": [
      "\n",
      "Extracting Dataset Version Zip to Car-Object-Detection-1 in yolov8:: 100%|██████████| 124/124 [00:00<00:00, 2585.91it/s]\n"
     ]
    }
   ],
   "source": [
    "rf = Roboflow(api_key=\"MEMemFVlRxs4cviLhLTX\")\n",
    "project = rf.workspace(\"cv-ukshr\").project(\"car-object-detection-8v1yi\")\n",
    "dataset = project.version(1).download(\"yolov8\")"
   ],
   "metadata": {
    "collapsed": false,
    "ExecuteTime": {
     "end_time": "2024-01-15T11:01:45.450929400Z",
     "start_time": "2024-01-15T11:01:39.254579200Z"
    }
   },
   "id": "f0b0f5b37ec335d5",
   "execution_count": 17
  },
  {
   "cell_type": "markdown",
   "source": [
    "# Test Model"
   ],
   "metadata": {
    "collapsed": false
   },
   "id": "b156e111867bdd6"
  },
  {
   "cell_type": "code",
   "outputs": [
    {
     "name": "stdout",
     "output_type": "stream",
     "text": [
      "running inference on dos_carros_barcelo.jpeg\n"
     ]
    },
    {
     "data": {
      "text/plain": "{'predictions': [{'x': 916,\n   'y': 471,\n   'width': 147,\n   'height': 132,\n   'confidence': 0.9328911304473877,\n   'class': 'cars',\n   'class_id': 0,\n   'image_path': 'C:\\\\Users\\\\josec\\\\Documents\\\\cuenca_lerma_cv\\\\lab/data/real_images/dos_carros_barcelo.jpeg',\n   'prediction_type': 'ObjectDetectionModel'},\n  {'x': 681,\n   'y': 468,\n   'width': 242,\n   'height': 184,\n   'confidence': 0.9161893129348755,\n   'class': 'cars',\n   'class_id': 0,\n   'image_path': 'C:\\\\Users\\\\josec\\\\Documents\\\\cuenca_lerma_cv\\\\lab/data/real_images/dos_carros_barcelo.jpeg',\n   'prediction_type': 'ObjectDetectionModel'}],\n 'image': {'width': '1600', 'height': '900'}}"
     },
     "execution_count": 47,
     "metadata": {},
     "output_type": "execute_result"
    }
   ],
   "source": [
    "#load model\n",
    "model = project.version(dataset.version).model\n",
    "\n",
    "test_set_loc = f\"{current_directory}/data/real_images/\"\n",
    "random_test_image = os.listdir(test_set_loc)[2]\n",
    "img_path = test_set_loc + random_test_image\n",
    "print(\"running inference on \" + random_test_image)\n",
    "\n",
    "pred = model.predict(img_path, confidence=40, overlap=30).json()\n",
    "pred"
   ],
   "metadata": {
    "collapsed": false,
    "ExecuteTime": {
     "end_time": "2024-01-15T11:28:39.560267Z",
     "start_time": "2024-01-15T11:28:36.306838600Z"
    }
   },
   "id": "31e1985ea1413bc2",
   "execution_count": 47
  },
  {
   "cell_type": "markdown",
   "source": [
    "# Anotate Image"
   ],
   "metadata": {
    "collapsed": false
   },
   "id": "739d55be5f090f55"
  },
  {
   "cell_type": "code",
   "outputs": [
    {
     "data": {
      "text/plain": "True"
     },
     "execution_count": 49,
     "metadata": {},
     "output_type": "execute_result"
    }
   ],
   "source": [
    "img = cv2.imread(img_path)\n",
    "annotator = Annotator(img)\n",
    "\n",
    "for prediction in pred[\"predictions\"]:\n",
    "    width = prediction[\"width\"]\n",
    "    height = prediction[\"height\"]\n",
    "    x1 = prediction[\"x\"] - width/2\n",
    "    y1 = prediction[\"y\"] - height/2\n",
    "    x2 = x1 + width\n",
    "    y2 = y1 + height\n",
    "    box =  annotator.box_label([x1,y1,x2,y2], label=\"car\", color=(255, 0, 0))\n",
    "    img = annotator.result()\n",
    "\n",
    "cv2.imwrite(\"prediction.jpg\", img) "
   ],
   "metadata": {
    "collapsed": false,
    "ExecuteTime": {
     "end_time": "2024-01-15T11:29:00.241316400Z",
     "start_time": "2024-01-15T11:29:00.182132100Z"
    }
   },
   "id": "4f45407ea36cbec7",
   "execution_count": 49
  }
 ],
 "metadata": {
  "kernelspec": {
   "display_name": "Python 3",
   "language": "python",
   "name": "python3"
  },
  "language_info": {
   "codemirror_mode": {
    "name": "ipython",
    "version": 2
   },
   "file_extension": ".py",
   "mimetype": "text/x-python",
   "name": "python",
   "nbconvert_exporter": "python",
   "pygments_lexer": "ipython2",
   "version": "2.7.6"
  }
 },
 "nbformat": 4,
 "nbformat_minor": 5
}
