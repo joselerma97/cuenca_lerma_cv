{
 "cells": [
  {
   "cell_type": "code",
   "execution_count": 26,
   "id": "initial_id",
   "metadata": {
    "collapsed": true,
    "ExecuteTime": {
     "end_time": "2024-01-15T16:17:55.836872700Z",
     "start_time": "2024-01-15T16:17:55.831308400Z"
    }
   },
   "outputs": [],
   "source": [
    "import pandas as pd\n",
    "import shutil"
   ]
  },
  {
   "cell_type": "code",
   "outputs": [],
   "source": [
    "json_pd = pd.read_csv(\"data/train_solution_bounding_boxes (1).csv\")"
   ],
   "metadata": {
    "collapsed": false,
    "ExecuteTime": {
     "end_time": "2024-01-15T16:16:20.036470900Z",
     "start_time": "2024-01-15T16:16:20.022337600Z"
    }
   },
   "id": "1a79ecdf18b1f5fa",
   "execution_count": 21
  },
  {
   "cell_type": "code",
   "outputs": [
    {
     "data": {
      "text/plain": "(559, 5)"
     },
     "execution_count": 23,
     "metadata": {},
     "output_type": "execute_result"
    }
   ],
   "source": [
    "json_pd.shape"
   ],
   "metadata": {
    "collapsed": false,
    "ExecuteTime": {
     "end_time": "2024-01-15T16:16:26.297229200Z",
     "start_time": "2024-01-15T16:16:26.275707900Z"
    }
   },
   "id": "81707a19587be401",
   "execution_count": 23
  },
  {
   "cell_type": "code",
   "outputs": [],
   "source": [
    "img_names = json_pd.image.unique().tolist()"
   ],
   "metadata": {
    "collapsed": false,
    "ExecuteTime": {
     "end_time": "2024-01-15T16:16:30.187837900Z",
     "start_time": "2024-01-15T16:16:30.179584100Z"
    }
   },
   "id": "88dac94b2c46dd74",
   "execution_count": 24
  },
  {
   "cell_type": "code",
   "outputs": [],
   "source": [
    "annotations = []\n",
    "label = \"0\"\n",
    "for img_name in img_names:\n",
    "    annotation = f\"{img_name} \"\n",
    "    img_info = json_pd[json_pd.image == img_name].to_dict(orient='records')\n",
    "    for img in img_info:\n",
    "        annotation += f\"{img['xmin']},{img['ymin']},{img['xmax']},{img['ymax']},{label} \"\n",
    "    annotations.append(annotation)\n",
    "\n",
    "with open('data/yolokeras.annotations.txt', 'w') as f:\n",
    "    f.writelines(\"\\n\".join(annotations))"
   ],
   "metadata": {
    "collapsed": false,
    "ExecuteTime": {
     "end_time": "2024-01-15T16:39:41.044380200Z",
     "start_time": "2024-01-15T16:39:40.782771700Z"
    }
   },
   "id": "64f8e71e429138b6",
   "execution_count": 31
  },
  {
   "cell_type": "code",
   "outputs": [],
   "source": [
    "for img_name in img_names:\n",
    "    shutil.copy(f\"data/training_images/{img_name}\", f\"data/roboflow_images/{img_name}\")"
   ],
   "metadata": {
    "collapsed": false,
    "ExecuteTime": {
     "end_time": "2024-01-15T16:18:34.611360500Z",
     "start_time": "2024-01-15T16:18:33.574822900Z"
    }
   },
   "id": "30262aacb73f579a",
   "execution_count": 27
  },
  {
   "cell_type": "code",
   "outputs": [],
   "source": [
    "label = \"car\"\n",
    "for img_name in img_names[0:1]:\n",
    "    annotation = \"\"\n",
    "    img_info = json_pd[json_pd.image == img_name].to_dict(orient='records')\n",
    "    for img in img_info:\n",
    "        annotation += f\"{label} {img['xmin']}, {img['ymin']}, {img['xmax']}, {img['ymax']}\\n\"\n",
    "    with open(f'data/roboflow_tags/{img_name.split(\".\")[0]}.txt', 'w') as f:\n",
    "        f.writelines(annotation)\n",
    "\n"
   ],
   "metadata": {
    "collapsed": false,
    "ExecuteTime": {
     "end_time": "2024-01-15T16:32:51.221080600Z",
     "start_time": "2024-01-15T16:32:51.200454700Z"
    }
   },
   "id": "8711b8a2c15dbf27",
   "execution_count": 30
  }
 ],
 "metadata": {
  "kernelspec": {
   "display_name": "Python 3",
   "language": "python",
   "name": "python3"
  },
  "language_info": {
   "codemirror_mode": {
    "name": "ipython",
    "version": 2
   },
   "file_extension": ".py",
   "mimetype": "text/x-python",
   "name": "python",
   "nbconvert_exporter": "python",
   "pygments_lexer": "ipython2",
   "version": "2.7.6"
  }
 },
 "nbformat": 4,
 "nbformat_minor": 5
}
