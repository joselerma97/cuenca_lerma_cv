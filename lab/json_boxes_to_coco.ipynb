{
 "cells": [
  {
   "cell_type": "code",
   "outputs": [],
   "source": [
    "from PIL import Image\n",
    "import pandas as pd\n",
    "import json"
   ],
   "metadata": {
    "collapsed": false,
    "ExecuteTime": {
     "end_time": "2024-01-14T14:38:30.048769400Z",
     "start_time": "2024-01-14T14:38:30.030165200Z"
    }
   },
   "id": "6708ec9d3f4532ec",
   "execution_count": 25
  },
  {
   "cell_type": "code",
   "execution_count": 4,
   "id": "initial_id",
   "metadata": {
    "collapsed": true,
    "ExecuteTime": {
     "end_time": "2024-01-14T14:16:07.885476400Z",
     "start_time": "2024-01-14T14:16:07.853771200Z"
    }
   },
   "outputs": [],
   "source": [
    "json_pd = pd.read_csv(\"data/train_solution_bounding_boxes (1).csv\")"
   ]
  },
  {
   "cell_type": "code",
   "outputs": [
    {
     "data": {
      "text/plain": "             image        xmin        ymin        xmax        ymax\n0   vid_4_1000.jpg  281.259045  187.035071  327.727931  223.225547\n1  vid_4_10000.jpg   15.163531  187.035071  120.329957  236.430180\n2  vid_4_10040.jpg  239.192475  176.764801  361.968162  236.430180\n3  vid_4_10020.jpg  496.483358  172.363256  630.020260  231.539575\n4  vid_4_10060.jpg   16.630970  186.546010  132.558611  238.386422",
      "text/html": "<div>\n<style scoped>\n    .dataframe tbody tr th:only-of-type {\n        vertical-align: middle;\n    }\n\n    .dataframe tbody tr th {\n        vertical-align: top;\n    }\n\n    .dataframe thead th {\n        text-align: right;\n    }\n</style>\n<table border=\"1\" class=\"dataframe\">\n  <thead>\n    <tr style=\"text-align: right;\">\n      <th></th>\n      <th>image</th>\n      <th>xmin</th>\n      <th>ymin</th>\n      <th>xmax</th>\n      <th>ymax</th>\n    </tr>\n  </thead>\n  <tbody>\n    <tr>\n      <th>0</th>\n      <td>vid_4_1000.jpg</td>\n      <td>281.259045</td>\n      <td>187.035071</td>\n      <td>327.727931</td>\n      <td>223.225547</td>\n    </tr>\n    <tr>\n      <th>1</th>\n      <td>vid_4_10000.jpg</td>\n      <td>15.163531</td>\n      <td>187.035071</td>\n      <td>120.329957</td>\n      <td>236.430180</td>\n    </tr>\n    <tr>\n      <th>2</th>\n      <td>vid_4_10040.jpg</td>\n      <td>239.192475</td>\n      <td>176.764801</td>\n      <td>361.968162</td>\n      <td>236.430180</td>\n    </tr>\n    <tr>\n      <th>3</th>\n      <td>vid_4_10020.jpg</td>\n      <td>496.483358</td>\n      <td>172.363256</td>\n      <td>630.020260</td>\n      <td>231.539575</td>\n    </tr>\n    <tr>\n      <th>4</th>\n      <td>vid_4_10060.jpg</td>\n      <td>16.630970</td>\n      <td>186.546010</td>\n      <td>132.558611</td>\n      <td>238.386422</td>\n    </tr>\n  </tbody>\n</table>\n</div>"
     },
     "execution_count": 5,
     "metadata": {},
     "output_type": "execute_result"
    }
   ],
   "source": [
    "json_pd.head() "
   ],
   "metadata": {
    "collapsed": false,
    "ExecuteTime": {
     "end_time": "2024-01-14T14:16:09.843726500Z",
     "start_time": "2024-01-14T14:16:09.793530900Z"
    }
   },
   "id": "9e711351f1337072",
   "execution_count": 5
  },
  {
   "cell_type": "code",
   "outputs": [],
   "source": [
    "json_boxes = json_pd.to_dict(orient='records')"
   ],
   "metadata": {
    "collapsed": false,
    "ExecuteTime": {
     "end_time": "2024-01-14T14:16:11.531934Z",
     "start_time": "2024-01-14T14:16:11.488035200Z"
    }
   },
   "id": "ad331235ac633a02",
   "execution_count": 6
  },
  {
   "cell_type": "code",
   "outputs": [
    {
     "data": {
      "text/plain": "[{'image': 'vid_4_1000.jpg',\n  'xmin': 281.2590449,\n  'ymin': 187.0350708,\n  'xmax': 327.7279305,\n  'ymax': 223.225547},\n {'image': 'vid_4_10000.jpg',\n  'xmin': 15.16353111,\n  'ymin': 187.0350708,\n  'xmax': 120.3299566,\n  'ymax': 236.4301802},\n {'image': 'vid_4_10040.jpg',\n  'xmin': 239.1924747,\n  'ymin': 176.7648005,\n  'xmax': 361.9681621,\n  'ymax': 236.4301802},\n {'image': 'vid_4_10020.jpg',\n  'xmin': 496.4833575,\n  'ymin': 172.3632561,\n  'xmax': 630.0202605,\n  'ymax': 231.5395753},\n {'image': 'vid_4_10060.jpg',\n  'xmin': 16.63096961,\n  'ymin': 186.5460103,\n  'xmax': 132.5586107,\n  'ymax': 238.3864221}]"
     },
     "execution_count": 8,
     "metadata": {},
     "output_type": "execute_result"
    }
   ],
   "source": [
    "json_boxes[0:5]"
   ],
   "metadata": {
    "collapsed": false,
    "ExecuteTime": {
     "end_time": "2024-01-14T14:16:26.501208200Z",
     "start_time": "2024-01-14T14:16:26.468945600Z"
    }
   },
   "id": "b41d490992b719f6",
   "execution_count": 8
  },
  {
   "cell_type": "code",
   "outputs": [
    {
     "data": {
      "text/plain": "{'year': 2024,\n 'version': '1',\n 'description': 'COCO 2024 Dataset',\n 'contributor': 'COCO Consortium',\n 'url': 'http://cocodataset.org',\n 'date_created': '2024/01/27'}"
     },
     "execution_count": 9,
     "metadata": {},
     "output_type": "execute_result"
    }
   ],
   "source": [
    "info = dict()\n",
    "info[\"year\"] = 2024\n",
    "info[\"version\"] = \"1\"\n",
    "info[\"description\"] = \"COCO 2024 Dataset\"\n",
    "info[\"contributor\"] = \"COCO Consortium\"\n",
    "info[\"url\"] = \"http://cocodataset.org\"\n",
    "info[\"date_created\"] = \"2024-01-15T00:00:00+00:00\"\n",
    "info"
   ],
   "metadata": {
    "collapsed": false,
    "ExecuteTime": {
     "end_time": "2024-01-14T14:18:01.585065800Z",
     "start_time": "2024-01-14T14:18:01.537016500Z"
    }
   },
   "id": "7b6305939d70dff4",
   "execution_count": 9
  },
  {
   "cell_type": "code",
   "outputs": [
    {
     "data": {
      "text/plain": "[{'id': 1,\n  'name': 'Attribution-NonCommercial-ShareAlike License',\n  'url': 'http://creativecommons.org/licenses/by-nc-sa/2.0/'}]"
     },
     "execution_count": 10,
     "metadata": {},
     "output_type": "execute_result"
    }
   ],
   "source": [
    "licenses = list()\n",
    "licenses.append({\"id\": 1, \"name\": \"Attribution-NonCommercial-ShareAlike License\", \"url\": \"http://creativecommons.org/licenses/by-nc-sa/2.0/\"})\n",
    "licenses"
   ],
   "metadata": {
    "collapsed": false,
    "ExecuteTime": {
     "end_time": "2024-01-14T14:18:44.230021500Z",
     "start_time": "2024-01-14T14:18:44.199945800Z"
    }
   },
   "id": "153a95c7fa76c919",
   "execution_count": 10
  },
  {
   "cell_type": "code",
   "outputs": [
    {
     "data": {
      "text/plain": "[{'id': 0, 'name': 'cars', 'supercategory': 'none'}]"
     },
     "execution_count": 11,
     "metadata": {},
     "output_type": "execute_result"
    }
   ],
   "source": [
    "categories = list()\n",
    "categories.append({\"id\": 0, \"name\": \"cars\", \"supercategory\": \"none\"})\n",
    "categories"
   ],
   "metadata": {
    "collapsed": false,
    "ExecuteTime": {
     "end_time": "2024-01-14T14:19:32.510531100Z",
     "start_time": "2024-01-14T14:19:32.493699300Z"
    }
   },
   "id": "31952672021ea3f2",
   "execution_count": 11
  },
  {
   "cell_type": "code",
   "outputs": [],
   "source": [
    "images = list()\n",
    "annotations = list()\n",
    "\n",
    "for id_data, json in enumerate(json_boxes):\n",
    "    image = dict()\n",
    "    annotation = dict()\n",
    "    \n",
    "    img_name = json[\"image\"]\n",
    "    \n",
    "    image[\"id\"] = id_data\n",
    "    image[\"license\"] = 1\n",
    "    image[\"file_name\"] = img_name\n",
    "    with Image.open(f\"data/training_images/{img_name}\") as img:\n",
    "        image[\"height\"] = img.height\n",
    "        image[\"width\"] = img.width    \n",
    "    image[\"date_captured\"] = \"2024-01-15T00:00:00+00:00\"    \n",
    "    images.append(image)\n",
    "    \n",
    "    annotation[\"id\"] = id_data\n",
    "    annotation[\"image_id\"] = id_data\n",
    "    annotation[\"category_id\"] = 0\n",
    "    x_min = json[\"xmin\"]\n",
    "    y_min = json[\"ymin\"]\n",
    "    width = json[\"xmax\"] - x_min\n",
    "    height = json[\"ymax\"] - y_min\n",
    "    annotation[\"bbox\"] = [x_min, y_min, width, height]\n",
    "    annotation[\"area\"] = width * height\n",
    "    annotation[\"segmentation\"] = []\n",
    "    annotation[\"iscrowd\"] = 0\n",
    "    annotations.append(annotation)"
   ],
   "metadata": {
    "collapsed": false,
    "ExecuteTime": {
     "end_time": "2024-01-14T14:36:23.493370400Z",
     "start_time": "2024-01-14T14:36:23.409983100Z"
    }
   },
   "id": "19e5b64a9b244474",
   "execution_count": 18
  },
  {
   "cell_type": "code",
   "outputs": [
    {
     "data": {
      "text/plain": "[{'id': 0,\n  'license': 1,\n  'file_name': 'vid_4_1000.jpg',\n  'height': 380,\n  'width': 676,\n  'date_captured': '2024-01-15T00:00:00+00:00'},\n {'id': 1,\n  'license': 1,\n  'file_name': 'vid_4_10000.jpg',\n  'height': 380,\n  'width': 676,\n  'date_captured': '2024-01-15T00:00:00+00:00'},\n {'id': 2,\n  'license': 1,\n  'file_name': 'vid_4_10040.jpg',\n  'height': 380,\n  'width': 676,\n  'date_captured': '2024-01-15T00:00:00+00:00'},\n {'id': 3,\n  'license': 1,\n  'file_name': 'vid_4_10020.jpg',\n  'height': 380,\n  'width': 676,\n  'date_captured': '2024-01-15T00:00:00+00:00'},\n {'id': 4,\n  'license': 1,\n  'file_name': 'vid_4_10060.jpg',\n  'height': 380,\n  'width': 676,\n  'date_captured': '2024-01-15T00:00:00+00:00'}]"
     },
     "execution_count": 19,
     "metadata": {},
     "output_type": "execute_result"
    }
   ],
   "source": [
    "images[0:5]"
   ],
   "metadata": {
    "collapsed": false,
    "ExecuteTime": {
     "end_time": "2024-01-14T14:36:25.708667100Z",
     "start_time": "2024-01-14T14:36:25.677081900Z"
    }
   },
   "id": "ba89d6d92a1f9162",
   "execution_count": 19
  },
  {
   "cell_type": "code",
   "outputs": [
    {
     "data": {
      "text/plain": "[{'id': 0,\n  'image_id': 0,\n  'category_id': 0,\n  'bbox': [281.2590449, 187.0350708, 46.46888560000002, 36.190476200000006],\n  'area': 1681.7310983473237,\n  'segmentation': [],\n  'iscrowd': 0},\n {'id': 1,\n  'image_id': 1,\n  'category_id': 0,\n  'bbox': [15.16353111, 187.0350708, 105.16642549000001, 49.395109399999996],\n  'area': 5194.707092285498,\n  'segmentation': [],\n  'iscrowd': 0},\n {'id': 2,\n  'image_id': 2,\n  'category_id': 0,\n  'bbox': [239.1924747, 176.7648005, 122.77568739999998, 59.66537969999999],\n  'area': 7325.458006649504,\n  'segmentation': [],\n  'iscrowd': 0},\n {'id': 3,\n  'image_id': 3,\n  'category_id': 0,\n  'bbox': [496.4833575, 172.3632561, 133.53690299999994, 59.176319199999995],\n  'area': 7902.222396907433,\n  'segmentation': [],\n  'iscrowd': 0},\n {'id': 4,\n  'image_id': 4,\n  'category_id': 0,\n  'bbox': [16.63096961, 186.5460103, 115.92764109000001, 51.8404118],\n  'area': 6009.736653108201,\n  'segmentation': [],\n  'iscrowd': 0}]"
     },
     "execution_count": 20,
     "metadata": {},
     "output_type": "execute_result"
    }
   ],
   "source": [
    "annotations[0:5]"
   ],
   "metadata": {
    "collapsed": false,
    "ExecuteTime": {
     "end_time": "2024-01-14T14:36:29.880229900Z",
     "start_time": "2024-01-14T14:36:29.848965500Z"
    }
   },
   "id": "392e49c2a7742346",
   "execution_count": 20
  },
  {
   "cell_type": "code",
   "outputs": [
    {
     "data": {
      "text/plain": "True"
     },
     "execution_count": 21,
     "metadata": {},
     "output_type": "execute_result"
    }
   ],
   "source": [
    "len(images) == len(annotations)"
   ],
   "metadata": {
    "collapsed": false,
    "ExecuteTime": {
     "end_time": "2024-01-14T14:36:50.101278200Z",
     "start_time": "2024-01-14T14:36:50.068020400Z"
    }
   },
   "id": "c18321bb0ba027ae",
   "execution_count": 21
  },
  {
   "cell_type": "code",
   "outputs": [],
   "source": [
    "coco_format_json = dict()\n",
    "coco_format_json[\"info\"] = info\n",
    "coco_format_json[\"licenses\"] = licenses\n",
    "coco_format_json[\"categories\"] = categories\n",
    "coco_format_json[\"images\"] = images\n",
    "coco_format_json[\"annotations\"] = annotations"
   ],
   "metadata": {
    "collapsed": false,
    "ExecuteTime": {
     "end_time": "2024-01-14T14:37:23.728303700Z",
     "start_time": "2024-01-14T14:37:23.721267600Z"
    }
   },
   "id": "19b575b5941dcf4d",
   "execution_count": 22
  },
  {
   "cell_type": "code",
   "outputs": [],
   "source": [
    "# File path where you want to store the JSON data\n",
    "file_path = 'data/coco_annotations.json'\n",
    "\n",
    "# Writing the dictionary to a JSON file\n",
    "with open(file_path, 'w') as json_file:\n",
    "    json.dump(coco_format_json, json_file, indent=4)"
   ],
   "metadata": {
    "collapsed": false,
    "ExecuteTime": {
     "end_time": "2024-01-14T14:38:55.724027200Z",
     "start_time": "2024-01-14T14:38:55.652185200Z"
    }
   },
   "id": "fd24b520c40faa49",
   "execution_count": 26
  }
 ],
 "metadata": {
  "kernelspec": {
   "display_name": "Python 3",
   "language": "python",
   "name": "python3"
  },
  "language_info": {
   "codemirror_mode": {
    "name": "ipython",
    "version": 2
   },
   "file_extension": ".py",
   "mimetype": "text/x-python",
   "name": "python",
   "nbconvert_exporter": "python",
   "pygments_lexer": "ipython2",
   "version": "2.7.6"
  }
 },
 "nbformat": 4,
 "nbformat_minor": 5
}
